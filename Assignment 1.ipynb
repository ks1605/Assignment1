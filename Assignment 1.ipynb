{
 "cells": [
  {
   "cell_type": "code",
   "execution_count": 34,
   "metadata": {},
   "outputs": [],
   "source": [
    "#Install bokeh, install pandas\n",
    "\n",
    "import pandas as pd\n",
    "data=pd.read_csv(\"https://raw.githubusercontent.com/choct155/telling_stories_with_data/master/assignments/data/hw1_test_data.csv\")\n",
    "\n",
    "from bokeh.plotting import figure, output_file, show\n",
    "p=figure(title='Sullivan Q1', x_axis_label='x', y_axis_label='y')\n",
    "p.scatter(data.x,data.y)\n",
    "\n",
    "show(p)"
   ]
  },
  {
   "cell_type": "code",
   "execution_count": 11,
   "metadata": {},
   "outputs": [],
   "source": [
    "import pandas as pd\n",
    "import numpy as np\n",
    "\n",
    "#I want bar graph\n",
    "data=np.random.normal(size=10)\n",
    "data\n",
    "from bokeh.plotting import figure, output_file, show\n",
    "\n",
    "p=figure(title='Sullivan Q2', x_axis_label='x', y_axis_label='y')\n",
    "p.vbar(x=[1,2,3,4,5,6,7,8,9,10], width=.1, top=data)\n",
    "\n",
    "show(p)\n",
    "\n"
   ]
  },
  {
   "cell_type": "code",
   "execution_count": 30,
   "metadata": {},
   "outputs": [
    {
     "name": "stdout",
     "output_type": "stream",
     "text": [
      "  footnotes period periodName value  year\n",
      "0      [{}]    A01     Annual  2156  2016\n",
      "1      [{}]    A01     Annual  1930  2015\n",
      "2      [{}]    A01     Annual  1868  2014\n",
      "3      [{}]    A01     Annual  1790  2013\n",
      "4      [{}]    A01     Annual  1677  2012\n"
     ]
    },
    {
     "data": {
      "text/html": [
       "<iframe src=bls_api_fig.html width=550 height=350></iframe>"
      ],
      "text/plain": [
       "<IPython.core.display.HTML object>"
      ]
     },
     "execution_count": 30,
     "metadata": {},
     "output_type": "execute_result"
    }
   ],
   "source": [
    "# Methods for display of arbitrary HTML\n",
    "from IPython.display import HTML\n",
    "\n",
    "# Methods for capture of secure info (like registration keys)\n",
    "import getpass\n",
    "\n",
    "# Methods for capture of data returned by GET request\n",
    "import requests\n",
    "\n",
    "# Methods for turning API result into pandas DataFrame\n",
    "import json\n",
    "import numpy as np\n",
    "import pandas as pd\n",
    "\n",
    "# Methods for plotting\n",
    "import bokeh.plotting as bp\n",
    "\n",
    "# Display result in an iframe\n",
    "def frame(url, height=400, width=1000):\n",
    "    display_string = '<iframe src={url} width={w} height={h}></iframe>'.format(url=url, w=width, h=height)\n",
    "    return HTML(display_string)\n",
    "\n",
    "frame('https://data.bls.gov/registrationEngine/')\n",
    "reg=getpass.getpass('Enter Key:')\n",
    "key='8408247f3dc7496fbf3695dbed2ed669'\n",
    "series = 'CXUHEALTHLB0102M'\n",
    "\n",
    "user='placeholder'\n",
    "\n",
    "frame('https://api.bis.gov/publicAPI/v1/timeseries/data/')\n",
    "\n",
    "def capture_request(series, start, end, key=reg):\n",
    "    # Define base URL (for v2)\n",
    "    url = 'https://api.bls.gov/publicAPI/v2/timeseries/data/'\n",
    "    # Concatenate registration key\n",
    "    url += '?registrationkey={key}'.format(key=key)\n",
    "    # Cast data request as JSON\n",
    "    data = json.dumps({\n",
    "        \"seriesid\": [series],\n",
    "        \"startyear\": str(start),\n",
    "        \"endyear\": str(end)\n",
    "    })\n",
    "    # Capture content type of request\n",
    "    headers = {\n",
    "        \"Content-type\": \"application/json\"\n",
    "    }\n",
    "    # Request data\n",
    "    result = requests.post(url, data=data, headers=headers)\n",
    "    return json.loads(result.text)\n",
    "\n",
    "# Capture and display JSON representation of the data\n",
    "json_data = capture_request(series, 2012, 2016)\n",
    "\n",
    "json_data\n",
    "\n",
    "# Convert to DF\n",
    "df_data = pd.DataFrame(json_data['Results']['series'][0]['data'])\n",
    "print(df_data)\n",
    "\n",
    "# Retain only the values and years (convert both values to int)\n",
    "df_sub = df_data[['year', 'value']].astype(int)\n",
    "\n",
    "# Set year to index\n",
    "df_sub.set_index('year', inplace=True)\n",
    "\n",
    "# Sort index\n",
    "df_sub.sort_index(inplace=True)\n",
    "\n",
    "df_sub\n",
    "\n",
    "# Create file path to hold figure we are about to make\n",
    "bp.output_file('bls_api_fig.html')\n",
    "\n",
    "# Create plotting figure\n",
    "fig = bp.figure(plot_width=500, plot_height=300)\n",
    "\n",
    "# Add a line to the figure\n",
    "fig.line(df_sub.index, df_sub['value'], line_width=3, color='#890d13')\n",
    "\n",
    "# Annotate plot\n",
    "fig.title.text = \"Health Expenditures for Q1 Consumers Have Increased\"\n",
    "fig.xaxis.axis_label = \"Year\"\n",
    "fig.yaxis.axis_label = \"Health Expenditures\"\n",
    "\n",
    "\n",
    "# Show the figure\n",
    "bp.save(fig)\n",
    "\n",
    "show_iframe('bls_api_fig.html', width=550, height=350)"
   ]
  }
 ],
 "metadata": {
  "kernelspec": {
   "display_name": "Python 3",
   "language": "python",
   "name": "python3"
  },
  "language_info": {
   "codemirror_mode": {
    "name": "ipython",
    "version": 3
   },
   "file_extension": ".py",
   "mimetype": "text/x-python",
   "name": "python",
   "nbconvert_exporter": "python",
   "pygments_lexer": "ipython3",
   "version": "3.6.3"
  }
 },
 "nbformat": 4,
 "nbformat_minor": 2
}
